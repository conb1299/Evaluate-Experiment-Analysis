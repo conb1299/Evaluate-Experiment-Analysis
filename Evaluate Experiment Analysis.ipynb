{
 "cells": [
  {
   "cell_type": "markdown",
   "metadata": {},
   "source": [
    "1. The main problem with this example is you have two different people delivering the slogans in both groups. By having Emperor deliver the slogan in one and Darth Vader in the other you are introducing another variable which will make it hard for us to determine the impact of the slogan itself.\n",
    "\n",
    "2. This could be an example of Simpson's paradox. Despite having a higher overall satisfactory rating it is very possible that Mace is better on every planet he went to. This would require more research to determine who the better delegate actually is.\n",
    "\n",
    "3. One would have to calculate the different countries into consideration when presenting the overall satisfaction rate. It is very possible that some countries have much more satisfied employees than others but our test is only looking at the industry variable.\n",
    "\n",
    "4. People are downloading the app for the reason to become active. Also since they know their data is now being shared they want to be become more active since other people will be looking at their data. The app is defintely not responsible for the increased activity of these people just merely represenative of the current time in their lives.\n",
    "\n",
    "5. It is possible that since the test corresponds to when the students actually came in the classroom that their arrival time has more to do with test score than actually test itself. Perhaps an AP class got out somewhat later and all those students arrived at the same time while a "
   ]
  }
 ],
 "metadata": {
  "kernelspec": {
   "display_name": "Python 3",
   "language": "python",
   "name": "python3"
  },
  "language_info": {
   "codemirror_mode": {
    "name": "ipython",
    "version": 3
   },
   "file_extension": ".py",
   "mimetype": "text/x-python",
   "name": "python",
   "nbconvert_exporter": "python",
   "pygments_lexer": "ipython3",
   "version": "3.6.1"
  }
 },
 "nbformat": 4,
 "nbformat_minor": 2
}
